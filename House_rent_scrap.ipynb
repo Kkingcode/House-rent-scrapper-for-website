{
  "cells": [
    {
      "cell_type": "markdown",
      "metadata": {
        "id": "view-in-github",
        "colab_type": "text"
      },
      "source": [
        "<a href=\"https://colab.research.google.com/github/Kkingcode/House-rent-scrapper-for-website/blob/main/House_rent_scrap.ipynb\" target=\"_parent\"><img src=\"https://colab.research.google.com/assets/colab-badge.svg\" alt=\"Open In Colab\"/></a>"
      ]
    },
    {
      "cell_type": "code",
      "execution_count": null,
      "id": "2c694d84",
      "metadata": {
        "id": "2c694d84",
        "outputId": "a6aba8ef-2523-4192-f3e0-71bdc4426a4d"
      },
      "outputs": [
        {
          "name": "stdout",
          "output_type": "stream",
          "text": [
            "House Type: 3 bedroom flat / apartment for rent\n",
            "House Location: Ikate, Lekki, Lagos\n",
            "Price: ₦5,000,000\n"
          ]
        }
      ],
      "source": [
        "from bs4 import BeautifulSoup\n",
        "\n",
        "html = '''\n",
        "<div class=\"wp-block-body\">\n",
        "    <div class=\"wp-block-content clearfix text-xs-left text-sm-left\">\n",
        "        <a href=\"/for-rent/flats-apartments/lagos/lekki/ikate/1763933-luxury-built-3-bedroom-apartment-with-boys-quarter\"><h4 class=\"content-title\">3 bedroom flat / apartment for rent</h4></a>\n",
        "        <address class=\"voffset-bottom-10\"><strong><i class=\"fal fa-map-marker\"></i> &nbsp;Ikate, Lekki, Lagos</strong></address>\n",
        "        <span class=\"pull-sm-left\">\n",
        "            <span content=\"NGN\" class=\"price\">₦</span><span content=\"5000000.00\" class=\"price\">5,000,000</span><span class=\"period\"> per annum</span>\n",
        "        </span>\n",
        "    </div>\n",
        "</div>\n",
        "'''\n",
        "\n",
        "soup = BeautifulSoup(html, \"html.parser\")\n",
        "\n",
        "# Extract house type\n",
        "house_type = soup.find(\"h4\", class_=\"content-title\").text.strip()\n",
        "print(\"House Type:\", house_type)\n",
        "\n",
        "# Extract house location\n",
        "house_location = soup.find(\"address\").text.strip()\n",
        "print(\"House Location:\", house_location)\n",
        "\n",
        "# Extract price\n",
        "price_currency = soup.find(\"span\", class_=\"price\").string.strip()\n",
        "price_value = soup.find(\"span\", class_=\"price\").find_next_sibling().string.strip()\n",
        "price = price_currency + price_value\n",
        "print(\"Price:\", price)\n"
      ]
    },
    {
      "cell_type": "code",
      "execution_count": null,
      "id": "0832b677",
      "metadata": {
        "scrolled": true,
        "id": "0832b677"
      },
      "outputs": [],
      "source": [
        "import requests\n",
        "from bs4 import BeautifulSoup\n",
        "import pandas as pd\n",
        "import re\n"
      ]
    },
    {
      "cell_type": "code",
      "execution_count": null,
      "id": "38f56758",
      "metadata": {
        "id": "38f56758"
      },
      "outputs": [],
      "source": [
        "def scrape_propertypro():\n",
        "    base_url = \"https://www.propertypro.ng\"\n",
        "    url = f\"{base_url}/property-for-rent?search=Lagos&auto=&type=&bedroom=&min_price=&max_price=\"\n",
        "    house_types = []\n",
        "    house_locations = []\n",
        "    addresses = []\n",
        "    prices = []\n",
        "\n",
        "    while url:\n",
        "        response = requests.get(url)\n",
        "        soup = BeautifulSoup(response.text, \"html.parser\")\n",
        "        listings = soup.find_all(\"div\", class_=\"single-room-text\")\n",
        "\n",
        "        for listing in listings:\n",
        "            house_type = listing.find(\"h4\").text.strip()\n",
        "            house_location_element = listing.find(\"h2\")\n",
        "            # Extract house location\n",
        "            house_location = house_location_element.text.strip() if house_location_element else \"\"\n",
        "            address_element = listing.find(\"span\", class_=\"address\")\n",
        "            address = address_element.text.strip() if address_element else \"\"\n",
        "            price_element = listing.find(\"h3\", class_=\"listings-price\")\n",
        "            price = \"\"\n",
        "            if price_element:\n",
        "                price_span = price_element.find(\"span\", content=\"NGN\")\n",
        "                price_text = price_span.find_next_sibling(\"span\").text if price_span else \"\"\n",
        "                price_match = re.search(r\"(\\d+,\\d+,\\d+)\", price_text)\n",
        "                if price_match:\n",
        "                    price = float(price_match.group().replace(\",\", \"\"))\n",
        "\n",
        "            house_types.append(house_type)\n",
        "            house_locations.append(house_location)\n",
        "            addresses.append(address)\n",
        "            prices.append(price)"
      ]
    },
    {
      "cell_type": "code",
      "execution_count": null,
      "id": "bb532946",
      "metadata": {
        "id": "bb532946"
      },
      "outputs": [],
      "source": [
        "next_page_link = soup.find(\"a\", class_=\"next_page\")\n",
        "url = f\"{base_url}{next_page_link['href']}\" if next_page_link else None\n",
        "\n"
      ]
    },
    {
      "cell_type": "code",
      "execution_count": null,
      "id": "c9366ad1-efd0-4b0c-9d01-b78bf9f0b079",
      "metadata": {
        "id": "c9366ad1-efd0-4b0c-9d01-b78bf9f0b079",
        "outputId": "4747b68b-96ee-4d0d-b1a3-4d04cb17e46b"
      },
      "outputs": [
        {
          "ename": "NameError",
          "evalue": "name 'house_types' is not defined",
          "output_type": "error",
          "traceback": [
            "\u001b[1;31m---------------------------------------------------------------------------\u001b[0m",
            "\u001b[1;31mNameError\u001b[0m                                 Traceback (most recent call last)",
            "Cell \u001b[1;32mIn[7], line 2\u001b[0m\n\u001b[0;32m      1\u001b[0m data \u001b[38;5;241m=\u001b[39m pd\u001b[38;5;241m.\u001b[39mDataFrame({\n\u001b[1;32m----> 2\u001b[0m         \u001b[38;5;124m\"\u001b[39m\u001b[38;5;124mHouse Type\u001b[39m\u001b[38;5;124m\"\u001b[39m: \u001b[43mhouse_types\u001b[49m,\n\u001b[0;32m      3\u001b[0m         \u001b[38;5;124m\"\u001b[39m\u001b[38;5;124mHouse Location\u001b[39m\u001b[38;5;124m\"\u001b[39m: house_locations,\n\u001b[0;32m      4\u001b[0m         \u001b[38;5;124m\"\u001b[39m\u001b[38;5;124mAddress\u001b[39m\u001b[38;5;124m\"\u001b[39m: addresses,\n\u001b[0;32m      5\u001b[0m         \u001b[38;5;124m\"\u001b[39m\u001b[38;5;124mPrices\u001b[39m\u001b[38;5;124m\"\u001b[39m: prices\n\u001b[0;32m      6\u001b[0m     })\n\u001b[0;32m      8\u001b[0m \u001b[38;5;28;01mreturn\u001b[39;00m data\n",
            "\u001b[1;31mNameError\u001b[0m: name 'house_types' is not defined"
          ]
        }
      ],
      "source": [
        "data = pd.DataFrame({\n",
        "        \"House Type\": house_types,\n",
        "        \"House Location\": house_locations,\n",
        "        \"Address\": addresses,\n",
        "        \"Prices\": prices\n",
        "    })\n",
        "\n",
        "return data"
      ]
    },
    {
      "cell_type": "code",
      "execution_count": null,
      "id": "23b1ea78",
      "metadata": {
        "id": "23b1ea78",
        "outputId": "50ad7a1d-1f25-4712-c682-0453c5a67e29"
      },
      "outputs": [
        {
          "name": "stdout",
          "output_type": "stream",
          "text": [
            "                             House Type House Location Address      Prices\n",
            "0       Old Ikoyi Old Ikoyi Ikoyi Lagos                                   \n",
            "1              4 BEDROOM HOUSE FOR RENT     PID: 7JJPM          13000000.0\n",
            "2              2 BEDROOM HOUSE FOR RENT     PID: 2JPEA           1000000.0\n",
            "3              4 BEDROOM HOUSE FOR RENT     PID: 8JNBV           7000000.0\n",
            "4   2 BEDROOM FLAT / APARTMENT FOR RENT     PID: 7JJEC           2500000.0\n",
            "5   2 BEDROOM FLAT / APARTMENT FOR RENT     PID: 2JJED           2200000.0\n",
            "6              3 BEDROOM HOUSE FOR RENT     PID: 5JJGQ           5000000.0\n",
            "7   3 BEDROOM FLAT / APARTMENT FOR RENT     PID: 0JJGS           6000000.0\n",
            "8              4 BEDROOM HOUSE FOR RENT     PID: 7JKWV           3700000.0\n",
            "9              5 BEDROOM HOUSE FOR RENT     PID: 5JKWY           4000000.0\n",
            "10   Orchid, Lekki. Chevron Lekki Lagos                                   \n",
            "11             4 BEDROOM HOUSE FOR RENT     PID: 7JPNM          15000000.0\n",
            "12  3 BEDROOM FLAT / APARTMENT FOR RENT     PID: 7JPNY          16000000.0\n",
            "13  2 BEDROOM FLAT / APARTMENT FOR RENT     PID: 5JMNQ           1000000.0\n",
            "14             4 BEDROOM HOUSE FOR RENT     PID: 9JPNM          15000000.0\n",
            "15             4 BEDROOM HOUSE FOR RENT     PID: 3JBBF           4000000.0\n",
            "16                       HOUSE FOR RENT     PID: 0HSMU           5000000.0\n",
            "17             3 BEDROOM HOUSE FOR RENT     PID: 4JJBC                    \n",
            "18             3 BEDROOM HOUSE FOR RENT     PID: 2JJRZ                    \n",
            "19             4 BEDROOM HOUSE FOR RENT     PID: 7JHVU          12000000.0\n",
            "20             4 BEDROOM HOUSE FOR RENT     PID: 2JKCJ          16500000.0\n",
            "21             4 BEDROOM HOUSE FOR RENT     PID: 2JKWP           4500000.0\n"
          ]
        }
      ],
      "source": [
        "# Execute the scraping function\n",
        "propertypro_data = scrape_propertypro()\n",
        "\n",
        "# Save the data to a CSV file\n",
        "propertypro_data.to_csv(\"property_data.csv\", index=False)\n",
        "\n",
        "# Display the scraped data\n",
        "print(propertypro_data)"
      ]
    },
    {
      "cell_type": "code",
      "execution_count": null,
      "id": "6103dcc9",
      "metadata": {
        "id": "6103dcc9",
        "outputId": "c55a8641-11cf-414b-9fc9-79db6547cdd2"
      },
      "outputs": [
        {
          "name": "stdout",
          "output_type": "stream",
          "text": [
            "Collecting fastapi\n",
            "  Downloading fastapi-0.96.0-py3-none-any.whl (57 kB)\n",
            "     ---------------------------------------- 0.0/57.1 kB ? eta -:--:--\n",
            "     --------------------- ------------------ 30.7/57.1 kB 1.3 MB/s eta 0:00:01\n",
            "     ---------------------------------- --- 51.2/57.1 kB 435.7 kB/s eta 0:00:01\n",
            "     -------------------------------------- 57.1/57.1 kB 425.6 kB/s eta 0:00:00\n",
            "Collecting pydantic!=1.7,!=1.7.1,!=1.7.2,!=1.7.3,!=1.8,!=1.8.1,<2.0.0,>=1.6.2\n",
            "  Downloading pydantic-1.10.8-cp39-cp39-win_amd64.whl (2.2 MB)\n",
            "     ---------------------------------------- 0.0/2.2 MB ? eta -:--:--\n",
            "     - -------------------------------------- 0.1/2.2 MB 2.0 MB/s eta 0:00:02\n",
            "     - -------------------------------------- 0.1/2.2 MB 1.7 MB/s eta 0:00:02\n",
            "     --- ------------------------------------ 0.2/2.2 MB 1.3 MB/s eta 0:00:02\n",
            "     ----- ---------------------------------- 0.3/2.2 MB 1.5 MB/s eta 0:00:02\n",
            "     ------ --------------------------------- 0.4/2.2 MB 1.5 MB/s eta 0:00:02\n",
            "     ------- -------------------------------- 0.4/2.2 MB 1.4 MB/s eta 0:00:02\n",
            "     -------- ------------------------------- 0.5/2.2 MB 1.4 MB/s eta 0:00:02\n",
            "     --------- ------------------------------ 0.5/2.2 MB 1.3 MB/s eta 0:00:02\n",
            "     ---------- ----------------------------- 0.6/2.2 MB 1.3 MB/s eta 0:00:02\n",
            "     ----------- ---------------------------- 0.6/2.2 MB 1.3 MB/s eta 0:00:02\n",
            "     ------------ --------------------------- 0.7/2.2 MB 1.3 MB/s eta 0:00:02\n",
            "     -------------- ------------------------- 0.8/2.2 MB 1.4 MB/s eta 0:00:02\n",
            "     --------------- ------------------------ 0.8/2.2 MB 1.4 MB/s eta 0:00:01\n",
            "     ---------------- ----------------------- 0.9/2.2 MB 1.3 MB/s eta 0:00:01\n",
            "     ----------------- ---------------------- 1.0/2.2 MB 1.3 MB/s eta 0:00:01\n",
            "     ------------------ --------------------- 1.0/2.2 MB 1.4 MB/s eta 0:00:01\n",
            "     ------------------- -------------------- 1.1/2.2 MB 1.3 MB/s eta 0:00:01\n",
            "     -------------------- ------------------- 1.1/2.2 MB 1.3 MB/s eta 0:00:01\n",
            "     --------------------- ------------------ 1.2/2.2 MB 1.3 MB/s eta 0:00:01\n",
            "     ----------------------- ---------------- 1.3/2.2 MB 1.3 MB/s eta 0:00:01\n",
            "     ------------------------ --------------- 1.3/2.2 MB 1.4 MB/s eta 0:00:01\n",
            "     ------------------------- -------------- 1.4/2.2 MB 1.3 MB/s eta 0:00:01\n",
            "     --------------------------- ------------ 1.5/2.2 MB 1.4 MB/s eta 0:00:01\n",
            "     ------------------------------ --------- 1.6/2.2 MB 1.5 MB/s eta 0:00:01\n",
            "     ------------------------------ --------- 1.6/2.2 MB 1.5 MB/s eta 0:00:01\n",
            "     -------------------------------- ------- 1.8/2.2 MB 1.4 MB/s eta 0:00:01\n",
            "     --------------------------------- ------ 1.8/2.2 MB 1.4 MB/s eta 0:00:01\n",
            "     ---------------------------------- ----- 1.9/2.2 MB 1.4 MB/s eta 0:00:01\n",
            "     ----------------------------------- ---- 1.9/2.2 MB 1.4 MB/s eta 0:00:01\n",
            "     ------------------------------------ --- 2.0/2.2 MB 1.4 MB/s eta 0:00:01\n",
            "     ------------------------------------- -- 2.1/2.2 MB 1.4 MB/s eta 0:00:01\n",
            "     ---------------------------------------  2.1/2.2 MB 1.4 MB/s eta 0:00:01\n",
            "     ---------------------------------------  2.2/2.2 MB 1.4 MB/s eta 0:00:01\n",
            "     ---------------------------------------- 2.2/2.2 MB 1.4 MB/s eta 0:00:00\n",
            "Collecting starlette<0.28.0,>=0.27.0\n",
            "  Downloading starlette-0.27.0-py3-none-any.whl (66 kB)\n",
            "     ---------------------------------------- 0.0/67.0 kB ? eta -:--:--\n",
            "     ---------------------------------------- 67.0/67.0 kB 1.8 MB/s eta 0:00:00\n",
            "Requirement already satisfied: typing-extensions>=4.2.0 in c:\\users\\admin\\anaconda3\\lib\\site-packages (from pydantic!=1.7,!=1.7.1,!=1.7.2,!=1.7.3,!=1.8,!=1.8.1,<2.0.0,>=1.6.2->fastapi) (4.5.0)\n",
            "Requirement already satisfied: anyio<5,>=3.4.0 in c:\\users\\admin\\anaconda3\\lib\\site-packages (from starlette<0.28.0,>=0.27.0->fastapi) (3.5.0)\n",
            "Requirement already satisfied: sniffio>=1.1 in c:\\users\\admin\\anaconda3\\lib\\site-packages (from anyio<5,>=3.4.0->starlette<0.28.0,>=0.27.0->fastapi) (1.2.0)\n",
            "Requirement already satisfied: idna>=2.8 in c:\\users\\admin\\anaconda3\\lib\\site-packages (from anyio<5,>=3.4.0->starlette<0.28.0,>=0.27.0->fastapi) (3.4)\n",
            "Installing collected packages: pydantic, starlette, fastapi\n",
            "Successfully installed fastapi-0.96.0 pydantic-1.10.8 starlette-0.27.0\n"
          ]
        }
      ],
      "source": [
        "! pip install fastapi"
      ]
    },
    {
      "cell_type": "code",
      "execution_count": null,
      "id": "fc2eaa5f",
      "metadata": {
        "id": "fc2eaa5f",
        "outputId": "d05a1c8b-d571-43a0-ef6a-4f46da32df70"
      },
      "outputs": [
        {
          "name": "stdout",
          "output_type": "stream",
          "text": [
            "Collecting uvicorn[standard]\n",
            "  Downloading uvicorn-0.22.0-py3-none-any.whl (58 kB)\n",
            "     ---------------------------------------- 0.0/58.3 kB ? eta -:--:--\n",
            "     ------------- ------------------------ 20.5/58.3 kB 682.7 kB/s eta 0:00:01\n",
            "     -------------------------- ----------- 41.0/58.3 kB 393.8 kB/s eta 0:00:01\n",
            "     -------------------------------------- 58.3/58.3 kB 384.8 kB/s eta 0:00:00\n",
            "Requirement already satisfied: click>=7.0 in c:\\users\\admin\\anaconda3\\lib\\site-packages (from uvicorn[standard]) (8.0.4)\n",
            "Requirement already satisfied: h11>=0.8 in c:\\users\\admin\\anaconda3\\lib\\site-packages (from uvicorn[standard]) (0.14.0)\n",
            "Requirement already satisfied: pyyaml>=5.1 in c:\\users\\admin\\anaconda3\\lib\\site-packages (from uvicorn[standard]) (6.0)\n",
            "Collecting python-dotenv>=0.13\n",
            "  Downloading python_dotenv-1.0.0-py3-none-any.whl (19 kB)\n",
            "Collecting websockets>=10.4\n",
            "  Downloading websockets-11.0.3-cp39-cp39-win_amd64.whl (124 kB)\n",
            "     ---------------------------------------- 0.0/124.7 kB ? eta -:--:--\n",
            "     ---------------------------- ---------- 92.2/124.7 kB 2.6 MB/s eta 0:00:01\n",
            "     ---------------------------------- --- 112.6/124.7 kB 1.1 MB/s eta 0:00:01\n",
            "     -------------------------------------- 124.7/124.7 kB 1.0 MB/s eta 0:00:00\n",
            "Collecting httptools>=0.5.0\n",
            "  Downloading httptools-0.5.0-cp39-cp39-win_amd64.whl (145 kB)\n",
            "     ---------------------------------------- 0.0/145.1 kB ? eta -:--:--\n",
            "     -------------------------------------  143.4/145.1 kB 4.2 MB/s eta 0:00:01\n",
            "     -------------------------------------- 145.1/145.1 kB 2.9 MB/s eta 0:00:00\n",
            "Requirement already satisfied: colorama>=0.4 in c:\\users\\admin\\anaconda3\\lib\\site-packages (from uvicorn[standard]) (0.4.6)\n",
            "Collecting watchfiles>=0.13\n",
            "  Downloading watchfiles-0.19.0-cp37-abi3-win_amd64.whl (270 kB)\n",
            "     ---------------------------------------- 0.0/270.9 kB ? eta -:--:--\n",
            "     ----------- --------------------------- 81.9/270.9 kB 4.5 MB/s eta 0:00:01\n",
            "     ------------------------------- ------ 225.3/270.9 kB 2.8 MB/s eta 0:00:01\n",
            "     -------------------------------------- 270.9/270.9 kB 2.4 MB/s eta 0:00:00\n",
            "Requirement already satisfied: anyio>=3.0.0 in c:\\users\\admin\\anaconda3\\lib\\site-packages (from watchfiles>=0.13->uvicorn[standard]) (3.5.0)\n",
            "Requirement already satisfied: sniffio>=1.1 in c:\\users\\admin\\anaconda3\\lib\\site-packages (from anyio>=3.0.0->watchfiles>=0.13->uvicorn[standard]) (1.2.0)\n",
            "Requirement already satisfied: idna>=2.8 in c:\\users\\admin\\anaconda3\\lib\\site-packages (from anyio>=3.0.0->watchfiles>=0.13->uvicorn[standard]) (3.4)\n",
            "Installing collected packages: websockets, python-dotenv, httptools, watchfiles, uvicorn\n",
            "Successfully installed httptools-0.5.0 python-dotenv-1.0.0 uvicorn-0.22.0 watchfiles-0.19.0 websockets-11.0.3\n"
          ]
        }
      ],
      "source": [
        "! pip install \"uvicorn[standard]\""
      ]
    },
    {
      "cell_type": "code",
      "execution_count": null,
      "id": "6b86b28a",
      "metadata": {
        "id": "6b86b28a"
      },
      "outputs": [],
      "source": []
    }
  ],
  "metadata": {
    "kernelspec": {
      "display_name": "Python 3 (ipykernel)",
      "language": "python",
      "name": "python3"
    },
    "language_info": {
      "codemirror_mode": {
        "name": "ipython",
        "version": 3
      },
      "file_extension": ".py",
      "mimetype": "text/x-python",
      "name": "python",
      "nbconvert_exporter": "python",
      "pygments_lexer": "ipython3",
      "version": "3.9.12"
    },
    "colab": {
      "provenance": [],
      "include_colab_link": true
    }
  },
  "nbformat": 4,
  "nbformat_minor": 5
}